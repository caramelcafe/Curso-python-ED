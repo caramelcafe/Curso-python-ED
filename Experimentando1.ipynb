{
  "nbformat": 4,
  "nbformat_minor": 0,
  "metadata": {
    "colab": {
      "provenance": [],
      "collapsed_sections": [],
      "authorship_tag": "ABX9TyPsye/CfR8nJ1h7TjqGX5/S",
      "include_colab_link": true
    },
    "kernelspec": {
      "name": "python3",
      "display_name": "Python 3"
    },
    "language_info": {
      "name": "python"
    }
  },
  "cells": [
    {
      "cell_type": "markdown",
      "metadata": {
        "id": "view-in-github",
        "colab_type": "text"
      },
      "source": [
        "<a href=\"https://colab.research.google.com/github/caramelcafe/Curso-python-ED/blob/main/Experimentando1.ipynb\" target=\"_parent\"><img src=\"https://colab.research.google.com/assets/colab-badge.svg\" alt=\"Open In Colab\"/></a>"
      ]
    },
    {
      "cell_type": "code",
      "execution_count": null,
      "metadata": {
        "colab": {
          "base_uri": "https://localhost:8080/"
        },
        "id": "0n8n5nj6egN_",
        "outputId": "7367ac75-d42f-417a-8f8b-3a0f9f5f7b94"
      },
      "outputs": [
        {
          "output_type": "stream",
          "name": "stdout",
          "text": [
            "olar\n"
          ]
        }
      ],
      "source": [
        "print (\"olar\")"
      ]
    },
    {
      "cell_type": "code",
      "source": [
        "print ('meu primeiro código python')\n",
        "numero = 14\n",
        "soma = numero + 4\n",
        "print (soma)"
      ],
      "metadata": {
        "id": "dM-G9ZSqehpU",
        "colab": {
          "base_uri": "https://localhost:8080/"
        },
        "outputId": "20f15b80-1d5e-4c24-a091-2778e47cd381"
      },
      "execution_count": 5,
      "outputs": [
        {
          "output_type": "stream",
          "name": "stdout",
          "text": [
            "meu primeiro código python\n",
            "18\n"
          ]
        }
      ]
    }
  ]
}